{
 "cells": [
  {
   "cell_type": "code",
   "execution_count": 1,
   "metadata": {},
   "outputs": [
    {
     "name": "stdout",
     "output_type": "stream",
     "text": [
      "Collecting oracledb\n",
      "  Downloading oracledb-2.1.2-cp312-cp312-win_amd64.whl.metadata (5.3 kB)\n",
      "Collecting cryptography>=3.2.1 (from oracledb)\n",
      "  Downloading cryptography-42.0.5-cp39-abi3-win_amd64.whl.metadata (5.4 kB)\n",
      "Requirement already satisfied: cffi>=1.12 in c:\\dev\\python312\\lib\\site-packages (from cryptography>=3.2.1->oracledb) (1.16.0)\n",
      "Requirement already satisfied: pycparser in c:\\dev\\python312\\lib\\site-packages (from cffi>=1.12->cryptography>=3.2.1->oracledb) (2.21)\n",
      "Downloading oracledb-2.1.2-cp312-cp312-win_amd64.whl (1.6 MB)\n",
      "   ---------------------------------------- 0.0/1.6 MB ? eta -:--:--\n",
      "    --------------------------------------- 0.0/1.6 MB 640.0 kB/s eta 0:00:03\n",
      "   ----- ---------------------------------- 0.2/1.6 MB 3.1 MB/s eta 0:00:01\n",
      "   -------------------- ------------------- 0.8/1.6 MB 7.4 MB/s eta 0:00:01\n",
      "   ---------------------------------------  1.6/1.6 MB 9.0 MB/s eta 0:00:01\n",
      "   ---------------------------------------- 1.6/1.6 MB 8.5 MB/s eta 0:00:00\n",
      "Downloading cryptography-42.0.5-cp39-abi3-win_amd64.whl (2.9 MB)\n",
      "   ---------------------------------------- 0.0/2.9 MB ? eta -:--:--\n",
      "   ------------- -------------------------- 1.0/2.9 MB 20.9 MB/s eta 0:00:01\n",
      "   -------------------------- ------------- 1.9/2.9 MB 20.1 MB/s eta 0:00:01\n",
      "   ---------------------------------------  2.9/2.9 MB 23.0 MB/s eta 0:00:01\n",
      "   ---------------------------------------- 2.9/2.9 MB 16.8 MB/s eta 0:00:00\n",
      "Installing collected packages: cryptography, oracledb\n",
      "Successfully installed cryptography-42.0.5 oracledb-2.1.2\n"
     ]
    }
   ],
   "source": [
    "## oracle DB와 연동할 라이브러리 설치\n",
    "!pip install oracledb"
   ]
  },
  {
   "cell_type": "code",
   "execution_count": 1,
   "metadata": {},
   "outputs": [],
   "source": [
    "import oracledb as db"
   ]
  },
  {
   "cell_type": "code",
   "execution_count": 2,
   "metadata": {},
   "outputs": [],
   "source": [
    "con = db.connect(user= 'ADAM', password='1234', dsn='localhost:1521/XE')\n",
    "cursor = con.cursor()"
   ]
  },
  {
   "cell_type": "code",
   "execution_count": 3,
   "metadata": {},
   "outputs": [
    {
     "name": "stdout",
     "output_type": "stream",
     "text": [
      "[(7369, 'SMITH', 'CLERK', 7902, datetime.datetime(1980, 12, 17, 0, 0), 800.0, None, 20), (7499, 'ALLEN', 'SALESMAN', 7698, datetime.datetime(1981, 2, 20, 0, 0), 1600.0, 300.0, 30), (7521, 'WARD', 'SALESMAN', 7698, datetime.datetime(1981, 2, 22, 0, 0), 1250.0, 500.0, 30), (7566, 'JONES', 'MANAGER', 7839, datetime.datetime(1981, 4, 2, 0, 0), 2975.0, None, 20), (7654, 'MARTIN', 'SALESMAN', 7698, datetime.datetime(1981, 9, 28, 0, 0), 1250.0, 1400.0, 30), (7698, 'BLAKE', 'MANAGER', 7839, datetime.datetime(1981, 5, 1, 0, 0), 2850.0, None, 30), (7782, 'CLARK', 'MANAGER', 7839, datetime.datetime(1981, 6, 9, 0, 0), 2450.0, None, 10), (7788, 'SCOTT', 'ANALYST', 7566, datetime.datetime(1987, 7, 13, 0, 0), 3000.0, None, 20), (7839, 'KING', 'PRESIDENT', None, datetime.datetime(1981, 11, 17, 0, 0), 5000.0, None, 10), (7844, 'TURNER', 'SALESMAN', 7698, datetime.datetime(1981, 9, 8, 0, 0), 1500.0, 0.0, 30), (7876, 'ADAMS', 'CLERK', 7788, datetime.datetime(1987, 7, 13, 0, 0), 1100.0, None, 20), (7900, 'JAMES', 'CLERK', 7698, datetime.datetime(1981, 12, 3, 0, 0), 950.0, None, 30), (7902, 'FORD', 'ANALYST', 7566, datetime.datetime(1981, 12, 3, 0, 0), 3000.0, None, 20), (7934, 'MILLER', 'CLERK', 7782, datetime.datetime(1982, 1, 23, 0, 0), 1300.0, None, 10)]\n"
     ]
    }
   ],
   "source": [
    "cursor.execute(\"select * from EMP\")\n",
    "text = cursor.fetchall();\n",
    "print(text)"
   ]
  },
  {
   "cell_type": "code",
   "execution_count": 24,
   "metadata": {},
   "outputs": [
    {
     "name": "stdout",
     "output_type": "stream",
     "text": [
      "환자등록\n",
      "환자정보를 입력하세요\n",
      "\n",
      "00001\n",
      " ㅇㅇㅇ\n",
      "010-1111-1111\n"
     ]
    }
   ],
   "source": [
    "print('환자등록\\n환자정보를 입력하세요\\n')\n",
    "inputdata = [input('환자id'), input('이름'), input('번호')]\n",
    "for i in inputdata:\n",
    "    i.replace(' ', '')\n",
    "    print(i)"
   ]
  }
 ],
 "metadata": {
  "kernelspec": {
   "display_name": "Python 3",
   "language": "python",
   "name": "python3"
  },
  "language_info": {
   "codemirror_mode": {
    "name": "ipython",
    "version": 3
   },
   "file_extension": ".py",
   "mimetype": "text/x-python",
   "name": "python",
   "nbconvert_exporter": "python",
   "pygments_lexer": "ipython3",
   "version": "3.12.2"
  }
 },
 "nbformat": 4,
 "nbformat_minor": 2
}
